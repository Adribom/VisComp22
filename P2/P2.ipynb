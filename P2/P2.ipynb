{
 "cells": [
  {
   "attachments": {},
   "cell_type": "markdown",
   "metadata": {},
   "source": [
    "# P2\n",
    "### Nome: Adriel Bombonato Guidini Godinho\n",
    "### RA: 191011631\n",
    "\n",
    "---"
   ]
  },
  {
   "cell_type": "code",
   "execution_count": 1,
   "metadata": {},
   "outputs": [],
   "source": [
    "import cv2\n",
    "import numpy as np\n",
    "import matplotlib.pyplot as plt"
   ]
  },
  {
   "attachments": {},
   "cell_type": "markdown",
   "metadata": {},
   "source": [
    "### 1)  Considere o código cadeia 11076765543322. \n",
    "a)   Recupere, desenhando, na grade abaixo, a fronteira definida por esse código. (1,0 ponto) \n",
    "b)  Calcule a área definida por esse código diretamente a partir dele. (1,0 ponto) \n",
    "c)  Encontre a primeira diferença do código (1,0 ponto)\n",
    "\n",
    "#### a)\n",
    "![q1](images\\\\q1.png)\n",
    "\n",
    "#### b)"
   ]
  },
  {
   "cell_type": "code",
   "execution_count": 2,
   "metadata": {},
   "outputs": [
    {
     "data": {
      "text/plain": [
       "21.0"
      ]
     },
     "execution_count": 2,
     "metadata": {},
     "output_type": "execute_result"
    }
   ],
   "source": [
    "def PolyArea(x,y):\n",
    "    return 0.5*np.abs(np.dot(x,np.roll(y,1))-np.dot(y,np.roll(x,1)))\n",
    "\n",
    "x = [0,0,2,3,4,4,5,5,3,2,0]\n",
    "y = [2,4,6,6,5,4,3,2,0,0,2]\n",
    "\n",
    "PolyArea(x,y)"
   ]
  },
  {
   "attachments": {},
   "cell_type": "markdown",
   "metadata": {},
   "source": [
    "#### C)\n",
    "\n",
    "A primeira diferença é 0777177077070."
   ]
  },
  {
   "attachments": {},
   "cell_type": "markdown",
   "metadata": {},
   "source": [
    "### 2)  Explique as vantagens e aplicações dos descritores de Fourier (1,0 ponto) \n",
    "\n",
    "A vantagem é que com poucos descritores de Fourier já é possível capturar a essência geral de uma fronteira. Essa propriedade é importante porque esses coeficientes carregam informações sobre o formato. Assim, eles podem ser usados como base para diferenciar entre diferentes formatos de fronteiras. \n",
    "\n",
    "Uma aplicação dos descritores de Fourier com bom resultado é na reconstrução de fronteira de cromossomos humanos. \n"
   ]
  },
  {
   "attachments": {},
   "cell_type": "markdown",
   "metadata": {},
   "source": [
    "### 3)  Explique o que é uma matriz de co-ocorrência e indique para quais tipos de imagem/aplicação é usada. (1,0 ponto)\n",
    "\n",
    "Uma matriz de co-ocorrência ou distribuição de co-ocorrência (também referida como: matrizes de co-ocorrência em nível de cinza GLCMs) é uma matriz que é definida sobre uma imagem para ser a distribuição de valores de pixel co-ocorrentes (valores em escala de cinza ou cores ) em um determinado deslocamento. É usado como uma abordagem para análise de textura com várias aplicações, especialmente na análise de imagens médicas."
   ]
  },
  {
   "attachments": {},
   "cell_type": "markdown",
   "metadata": {},
   "source": [
    "### 4)  Explique porque um bom descritor de objetos em uma imagem deve ser invariante a escala, translação e outras transformações geométricas? (1,0 ponto) \n",
    "\n",
    "Se um descritor for variante a qualquer um desses vc perde o reconhecimento de objetos armazenando apenas uma possibilidade de como descrever ele e para preservar a capacidade de reconhecimento seriam precisos infinitos descritores pra cada objeto descrito em cada possível condição de distancia rotação e translação."
   ]
  },
  {
   "attachments": {},
   "cell_type": "markdown",
   "metadata": {},
   "source": [
    "### 5)  Qual a função da morfologia matemática a expressão abaixo representa? Qual a sua aplicação? (1,0 ponto) \n",
    "\n",
    "![q5](images\\\\q5.png)\n",
    "\n",
    "A dilatação é uma operação morfológica que utiliza o operador OU no elemento estruturante e serve para aumentar a área do objeto. Normalmente é usado para acentuar características. \n",
    "\n",
    "Em casos como remoção de ruído, uma erosão é seguida por dilatação. Porque a erosão remove os ruídos brancos, mas também encolhe nosso objeto. Então, nós dilatamos. Como o ruído acabou, eles não voltarão, mas nossa área de objeto aumenta. Dilatação também é útil para unir partes quebradas de um objeto."
   ]
  },
  {
   "attachments": {},
   "cell_type": "markdown",
   "metadata": {},
   "source": [
    "### 6) Explique a diferença entre aprendizagem de máquina supervisionada e não supervisionada. Dê exemplos de técnicas que podem ser utilizadas para reconhecimento de objetos em imagens. (2,0 pontos)\n",
    "\n",
    "Unsurpevised Learning se resume em observar um vetor x de exemplos e descobrir implicitamente ou explicitamente a distribuição probabilística p(x). Isso pode ser feito de diversas maneiras, uma das mais comuns é a clusterização.\n",
    "\n",
    "Supervised Learning se resume em observar um vetor x e um vetor de valores associados y e prever y dado x, normalmente estimando p(y|x). A máquina fará alterações em seus parâmetros de modo que crie regras que consigam computar de forma eficiênte p(y|x).\n",
    "\n",
    "Você pode usar uma variedade de abordagens para o reconhecimento de objetos. Recentemente, técnicas de aprendizado de máquina e aprendizado profundo tornaram-se abordagens populares para problemas de reconhecimento de objetos. Ambas as técnicas aprendem a identificar objetos em imagens, mas diferem em sua execução.\n",
    "\n",
    "Outras formas de reconhecimento de objetos são:\n",
    "\n",
    "- Correspondência de modelo: que usa uma imagem pequena, ou modelo, para encontrar regiões correspondentes em uma imagem maior\n",
    "\n",
    "- Segmentação de imagem e análise de blob: que usa propriedades de objetos simples, como tamanho, cor ou forma"
   ]
  }
 ],
 "metadata": {
  "kernelspec": {
   "display_name": "viscomp22",
   "language": "python",
   "name": "python3"
  },
  "language_info": {
   "codemirror_mode": {
    "name": "ipython",
    "version": 3
   },
   "file_extension": ".py",
   "mimetype": "text/x-python",
   "name": "python",
   "nbconvert_exporter": "python",
   "pygments_lexer": "ipython3",
   "version": "3.10.4 | packaged by conda-forge | (main, Mar 30 2022, 08:38:02) [MSC v.1916 64 bit (AMD64)]"
  },
  "orig_nbformat": 4,
  "vscode": {
   "interpreter": {
    "hash": "cc6724f4cd9410304b594526f4452fae016f30c9d1d0d58613ad2e85237f41a8"
   }
  }
 },
 "nbformat": 4,
 "nbformat_minor": 2
}
